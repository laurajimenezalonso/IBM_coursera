{
 "cells": [
  {
   "cell_type": "markdown",
   "id": "36ca41aa-d3e7-4cc9-aca8-af412ab8a41a",
   "metadata": {},
   "source": [
    "# Data Science Tools and Ecosystem\n"
   ]
  },
  {
   "cell_type": "markdown",
   "id": "46bdfdcc-5e99-47c1-a5e4-c00b6c459e62",
   "metadata": {},
   "source": [
    "In this notebook, Data Science Tools and Ecosystem are summarized."
   ]
  },
  {
   "cell_type": "markdown",
   "id": "0fc9f4eb-e92d-4caa-b80c-bcff2cb038d6",
   "metadata": {},
   "source": [
    "**Objectives:**\n",
    "\n",
    "* List of popular languages for Data Science\n",
    "* Some arithmetic examples\n",
    "* List of popular libraries for Data Science\n",
    "\n",
    "## Author\n",
    "Laura Jimenez Alonso"
   ]
  },
  {
   "cell_type": "markdown",
   "id": "0745fcd9-15e3-412f-ad82-3a1702be26b4",
   "metadata": {},
   "source": [
    "Some of the popular languages that Data Scientists use are:\n",
    "\n",
    "* Python\n",
    "* R\n",
    "* SQL\n",
    "* Java\n",
    "* Julia"
   ]
  },
  {
   "cell_type": "markdown",
   "id": "d37212bb-ddad-4d8f-99b6-0485c963b294",
   "metadata": {},
   "source": [
    "Some of the commonly used libraries used by Data Scientists include:\n",
    "\n",
    "* NumPy\n",
    "* Pandas\n",
    "* Matbotlib\n",
    "* Seaborn\n",
    "* TensorFlow"
   ]
  },
  {
   "cell_type": "markdown",
   "id": "30c7082b-eea4-4f7b-9915-fd751dc2e38d",
   "metadata": {},
   "source": [
    "### Below are a few examples of evaluating arithmetic expressions in Python"
   ]
  },
  {
   "cell_type": "code",
   "execution_count": 1,
   "id": "44395a5c-de9f-4ea3-9399-3ce11294cc89",
   "metadata": {},
   "outputs": [
    {
     "data": {
      "text/plain": [
       "17"
      ]
     },
     "execution_count": 1,
     "metadata": {},
     "output_type": "execute_result"
    }
   ],
   "source": [
    "#This a simple arithmetic expression to mutiply then add integers\n",
    "(3*4)+5\n"
   ]
  },
  {
   "cell_type": "code",
   "execution_count": 2,
   "id": "c627ec16-01eb-445d-8db0-b2926b0981ce",
   "metadata": {},
   "outputs": [
    {
     "data": {
      "text/plain": [
       "3.3333333333333335"
      ]
     },
     "execution_count": 2,
     "metadata": {},
     "output_type": "execute_result"
    }
   ],
   "source": [
    "#This will convert 200 minutes to hours by diving by 60\n",
    "200/60"
   ]
  },
  {
   "cell_type": "code",
   "execution_count": null,
   "id": "0b685339-659b-4e76-ae6e-9df67c0dc8e9",
   "metadata": {},
   "outputs": [],
   "source": []
  }
 ],
 "metadata": {
  "kernelspec": {
   "display_name": "Python 3 (ipykernel)",
   "language": "python",
   "name": "python3"
  },
  "language_info": {
   "codemirror_mode": {
    "name": "ipython",
    "version": 3
   },
   "file_extension": ".py",
   "mimetype": "text/x-python",
   "name": "python",
   "nbconvert_exporter": "python",
   "pygments_lexer": "ipython3",
   "version": "3.13.3"
  }
 },
 "nbformat": 4,
 "nbformat_minor": 5
}
